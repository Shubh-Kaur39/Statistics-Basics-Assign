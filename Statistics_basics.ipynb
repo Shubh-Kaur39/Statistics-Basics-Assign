{
  "nbformat": 4,
  "nbformat_minor": 0,
  "metadata": {
    "colab": {
      "provenance": []
    },
    "kernelspec": {
      "name": "python3",
      "display_name": "Python 3"
    },
    "language_info": {
      "name": "python"
    }
  },
  "cells": [
    {
      "cell_type": "markdown",
      "source": [
        "# **STATISTICS BASICS ASSIGNMENT**\n",
        "\n",
        "\n",
        "**Q.1 What is statistics, and why is it important?**\n",
        "- Statistics is a mathematical science including methods of collecting, organizing, analyzing and predicting data in such a way that meaningful conclusions can be drawn. Statistics is important because it has tools to make the decision based on the data and issues that involve uncertainity. Statistics is widely used in ML and data science to extract patterns and trend in data. Statistics is also used by bussinesses, reasearchers and governments to make choices by learning from the data. Example statistics is used in weather forecast, sports analytics and election campaign.\n",
        "\n",
        "**Q.2 What are the two main types of statistics?**\n",
        "- The two main types of statistics are listed below:\n",
        "1. *Descriptive Statistics*:\n",
        "It consists of organizing and summarizing the complete data/ population. It describe the past data so that it become easier to understand and interpret.\n",
        "Example: mean, median, mode, range, variance and standard deviation\n",
        "2. *Inferential Statistics*:\n",
        "It consists of using sample instead of whole population to measure and form conclusions about a population. It makes predictions and conclusions when it is not possible to measure entire population.\n",
        "Example: hypothesis testing and confidence intervals.\n",
        "\n",
        "**Q.3 What are descriptive statistics?**\n",
        "- Descriptive statistics consists of organizing and summarizing the complete data/ population. It describe the past data so that it become easier to understand and interpret. There are 3 keys of descriptive statistics:\n",
        "1. Measures of central tendency:\n",
        "There describe the center or average of data.\n",
        "  - Mean: airthmetic mid value of data\n",
        "  - Median: physical mid point of data\n",
        "  - Mode: maximum frequency\n",
        "2. Measures of Dispersion:\n",
        "These tells about how spread the values are in dataset.\n",
        "  - Range: difference between maximum and minimum value\n",
        "  - IQR: Q3-Q1\n",
        "  - Variance: the average of squared differences from the mean.\n",
        "  - Standard Deviation: square root of variance\n",
        "3. Measures of Symmtricity:\n",
        "These talks about shape of the data.\n",
        "  - Skewness: it tells how symmetric dataset is around mean.\n",
        "\n",
        "\n",
        "**Q.4 What is inferential statistics?**\n",
        "- Inferential statistics consists of using sample instead of whole population to measure and form conclusions about a population. It makes predictions and conclusions when it is not possible to measure entire population. It is used when the population is large and their are time and resource constraints. Example if we have to calculate average weight of people in the india, it is really difficult for an individual to calculate on the basis of population. So, we could take a random sample, calculate it's average weight and then we inference that the calculated average weight represent the average weight of entire population.\n",
        "\n",
        "\n",
        "**Q.5 What is sampling in statistics?**\n",
        "- Sampling means the process of selecting a sample i.e. a small proportion of data from the entire population which could represent the whole population. To get good and reliable results, it is really necessary to select the sample wisely that should not give wrong conclusions. We use sampling when the population is large and we don't have enough resource and time. Using this we are able to get efficient data analysis in less time and less cost.\n",
        "\n",
        "**Q.6 What are the different types of sampling methods?**\n",
        "- There are different types of sampling techniques used to select sample:\n",
        "  1. *Simple random sampling*: In this every element in the population data have equal chance of getting selected in the sample. In other words, if there are n elements in population than each element has 1/n probability of being selected in the sample.\n",
        "  Example: votes of people\n",
        "  \n",
        "  2. *Stratisfied sampling*: In startisfied samples population is first divided into groups, and the elements from each of the group are selected randomly. Example: selecting equal number of males and females.\n",
        "  \n",
        "  3. *Cluster sampling*: In this firstly population is divided into groups or clusters, after that some of the clusters are randomly selected i.e. all the elements in the choosen cluster will be present in sample. Example: Survey in selected cities on certain topics.\n",
        "\n",
        "  4. *Systematic sampling*: In this, every nth element is selected. Example: people born on odd years.\n",
        "\n",
        "  5. *Convenience Sampling*: In this those elements are choosen which are easier to access. There is no concept of probablity used in this sampling technique.\n",
        "  Example: survey in your school on certain topic.\n",
        "\n",
        "**Q.7 What is the difference between random and non-random sampling?**\n",
        "- In random sampling, each sample have equal chance of getting selected whereas in non-random sampling some samples have high chance of getting selected and others have very less chance to get selected. There is no bias in random sampling but there is biasnes in non-random sampling. Non-random sampling is used when need to make sample quickly as random sampling takes time but predictions in random sampling are more reliable. Example of random sampling are simple random sampling, cluster and stratified sampling and example of non-random sampling is convience sampling and judgemental sampling.\n",
        "\n",
        "**Q.8 Define and give examples of qualitative and quantitative data.**\n",
        "- **Qualitative data** :- It is also known as categorical data. It describe the characterstics, attributes and concepts of non-numerical data. Example: gender, martial status and blood type.\n",
        "\n",
        "- **Quantitative data** :- It is also known as numerical data. It describes quantities that can be measured in the numbers and we can perform mathematical calculations on such data. Example: height and weight of the people.\n",
        "\n",
        "**Q.9 What are the different types of data in statistics?**\n",
        "- In statistics data is classified into 2 different types in which each have 2 sub-types and all these are listed below:\n",
        "1. Qualitative Data: It is also known as categorical data. It describe the characterstics, attributes and concepts of non-numerical data.It is of two types:\n",
        "  - Nominal data : there is no ordering in nominal data naturally. It is just names and no order/priority is there.\n",
        "  Ex: blood group, gender and colour.\n",
        "  - Ordinal data : there is some order or rank present in the categorical data i.e. data is categorized with a meaningful order, but intervals between values are not uniform. Ex: ranks, grades and salary.\n",
        "2. Quantitative Data: It is also known as numerical data. It describes quantities that can be measured in the numbers and we can perform mathematical calculations on such data.It is of two types:\n",
        "  - Discrete data: the numerical data which is countable and have gaps between them is called as discrete data. It will take specific finite whole number values. Ex: number of babies, number of males.\n",
        "  - Continuous data: the numerical data which is measurable, can take any value in a range and do not have gaps between them is known as continuous data. Ex: height and weight of the students.\n",
        "\n",
        "**Q.10 Explain nominal, ordinal, interval, and ratio levels of measurement.**\n",
        "- *Nominal Scale*: Qualitative data is categorized without any order or ranking. In this scale only categorical values are present and we can only count the frquency. Example: gender and blood type.\n",
        "- *Ordinal Scale*: Data is categorized with a meaningful order, but intervals between values are not uniform or known. We can rank the data but can't measure the difference between two values.\n",
        "Ex: grades, salary, rating\n",
        "- *Interval Scale*: It is a numerical scale with equal intervals but have no starting/zero point. we can find difference between two values but can't multiply or divide because it don't have zero point.\n",
        "Ex: temp in celsius\n",
        "- *Ratio Scale*: It is also a numerical scale with equal intervals but this have a starting or true zero point. In this we can calculate ratios and all mathematical operations. It is most powerfull type of scale. Ex: height, weight and age.\n",
        "\n",
        "**Q.11 What is the measure of central tendency?**\n",
        "- Measure of central tendency is a statistical concept that describes the center or average value which can represent whole dataset and distribution. It is mainly of three types:\n",
        "1. *Mean:* It is airthmetic mid value of data. It is equal to sum of all observations divided by total number of observations. Mean is highly affected by outliers so, if the data has outliers it is not the best method to use.\n",
        "\n",
        "$$\\bar{x} = \\frac{1}{n} \\sum_{i=1}^{n} (x_i)$$\n",
        "\n",
        "Example: 1,2,4,2,9,5,7\n",
        "Mean = (1+2+4+2+9+5+7) / 7 = 30/7 = 4.28\n",
        "\n",
        "2. *Median:* It is physical mid point of the data. It is always calculated after sorting the numbers.\n",
        "- If number of observations are odd, median is equal to middle number\n",
        "- If number of observations are even, median is equal to average of two middle numbers.\n",
        "Median is not affected by outliers so we can use median as a measure of central tendency whenever outliers are present.\n",
        "Example:  1,2,4,2,9,5,7\n",
        "sort-> 1,2,2,4,5,7,9 median = 4\n",
        "\n",
        "3. *Mode:* It is the value which have highest frequency in the dataset. A dataset can have 0 mode, 1 mode or multiple modes.\n",
        "Example: 1,2,1,4,9,1,3,1,1,4,1,1\n",
        "Mode = 1 (occured maximum times)\n",
        "\n",
        "**Q.12 Define mean, median, and mode?**\n",
        "- **Mean:** It is airthmetic mid value of data. It is equal to sum of all observations divided by total number of observations. Mean is highly affected by outliers so, if the data has outliers it is not the best method to use.\n",
        "\n",
        "$$\\bar{x} = \\frac{1}{n} \\sum_{i=1}^{n} (x_i)$$\n",
        "\n",
        "Example: 1,2,4,2,9,5,7\n",
        "Mean = (1+2+4+2+9+5+7) / 7 = 30/7 = 4.28\n",
        "\n",
        "- **Median:** It is physical mid point of the data. It is always calculated after sorting the numbers.\n",
        "  - If number of observations are odd, median is equal to middle number\n",
        "  - If number of observations are even, median is equal to average of two middle numbers.\n",
        "Median is not affected by outliers so we can use median as a measure of central tendency whenever outliers are present.\n",
        "Example1:  1,2,4,2,9,5,7\n",
        "sort-> 1,2,2,4,5,7,9 median = 4\n",
        "\n",
        "Example2:  1,2,4,2,9,5,7,5,2,6\n",
        "sort-> 1,2,2,2,4,5,5,6,7,9 median = (4 + 5)/2 = 4.5\n",
        "\n",
        "- **Mode:** It is the value which have highest frequency in the dataset. A dataset can have 0 mode, 1 mode or multiple modes.\n",
        "Example: 1,2,1,4,9,1,3,1,1,4,1,1\n",
        "Mode = 1 (occured maximum times)\n",
        "\n",
        "**Q.13 What is the significance of the measure of central tendency?**\n",
        "- Measure of central tendency tells us about the central value that can represent the whole dataset. It can summarize large dataset so reasearchers are able to conclude about patterns and trends through these measures i.e. mean, median and mode. It can also be used to compare two different dataset values.\n",
        "\n",
        "**Q.14 What is variance, and how is it calculated?**\n",
        "- Variance is a measure of dispersion which  tells us how much values in the dataset differ from mean. It is equal to the average of the squared differences from the mean. The more the spread of values from the mean, the more will be the variance.\n",
        "\n",
        "\n",
        "  - **Popluation Variance:**\n",
        "\n",
        "\n",
        "  $$\\sigma^2 = \\frac{1}{n} \\sum_{i=1}^{n} (x_i - \\mu)^2$$\n",
        "\n",
        "  $\\mu$ = Population mean;\n",
        "  n = no. of elements ;\n",
        "\n",
        "  - **Sample Variance:**\n",
        "\n",
        "\n",
        "  $$s^2 = \\frac{1}{n - 1} \\sum_{i=1}^{n} (x_i - \\bar{x})^2$$\n",
        "\n",
        "  $\\bar{x}$ = Sample mean;\n",
        "  n = no. of elements ;\n",
        "\n",
        "**Q.15 What is standard deviation, and why is it important?**\n",
        "- Standard deviation is one of the widely used measure to calculate the spread of the data from it's average value. It has direct relation with spread of data i.e if spread increases standard deviation is also high, and if spread decreases standard deviation is also less. It is equal to square root of variance.\n",
        "\n",
        "\n",
        "  - **Popluation standard deviation:**\n",
        "\n",
        "\n",
        "  $$\\sigma = \\sqrt{\\frac{1}{n} \\sum_{i=1}^{n} (x_i - \\mu)^2}$$\n",
        "\n",
        "  $\\mu$ = Population mean;\n",
        "  n = no. of elements ;\n",
        "\n",
        "  - **Sample standard deviation:**\n",
        "\n",
        "\n",
        "  $$s = \\sqrt{\\frac{1}{n - 1} \\sum_{i=1}^{n} (x_i - \\bar{x})^2}$$\n",
        "\n",
        "  $\\bar{x}$ = Sample mean;\n",
        "  n = no. of elements ;\n",
        "\n",
        "Standard deviation is important because it provides deep insights into the spread of data. As it is necessary in certain datasets to know whether datapoints are concentrated or dispersed around the mean value. It is also helpful to compare two different dataset having same/different mean. Like it is possible that two dataset have same mean but are not same because of having different spread.\n",
        "\n",
        "Example: a crickter who scores average scores but is consistent has high chances to get selected over a cricketer who sometimes score high and other times very less i.e. who is not consistent. Hence, standard deviation also plays important role in such scenarios.\n",
        "\n",
        "\n",
        "**Q.16 Define and explain the term range in statistics.**\n",
        "- Range is a statistical measure of dispersion which tells us about the difference between maximum and minimum value in a dataset.\n",
        "\n",
        "$$\\text{Range} = \\text{Maximum value} - \\text{Minimum value}$$\n",
        "Range is highly affected by ouliers because it only consider two extreme values. so, it's better to avoid range when outlier is present in the dataset.\n",
        "Example: 1,2,4,9,10,3,8,6,7,8\n",
        "\n",
        "Range = 10 - 1 = 9\n",
        "\n",
        "**Q.17 What is the difference between variance and standard deviation?**\n",
        "-  Both variance and standard deviation are the measures to calculate the spread of the data from it's average value. But variance is equal to the average of the squared differences from the mean whereas standard deviation is equal to the sqare root of variance. The major difference in both is that variance gives squared unit of original unit while standard deviation tells us spread by preserving the original unit. Hence, standard deviation is more interpretable and widely used as compared to variance.\n",
        "\n",
        "**Q.18 What is skewness in a dataset?**\n",
        "- Skewness mean inclination so skewness in a dataset is a measure of symmtricity which tells about the shape of data i.e. whether it is inclined or not. If yes then to left or to right.\n",
        "skewness = 0 -> data is symmtric\n",
        "skewness > 0 -> data is possitively/right skewed (long tail on right)\n",
        "skewness < 0 -> data is negatively/left skewed (long tail on left)\n",
        "\n",
        "**Q.19 What does it mean if a dataset is positively or negatively skewed?**\n",
        "- Possitively skewed: It is also called as right skewed. In this tail is on right side of the distribution. In other words, most of the data lies on the right side. Also, Value of skewness is greater than zero.\n",
        "\n",
        "Here, Q3 - Q2 > Q2 - Q1 and mean >= median >= mode\n",
        "\n",
        "\n",
        "- Negatively skewed: It is also called as left skewed. In this tail is on the left side of the distribution. In other words, most of the data values lies on the left side. Also, Value of skewness is less than zero.\n",
        "\n",
        "Here, Q2-Q1 >= Q3-Q2 and mode >= median >= mean\n",
        "\n",
        "\n",
        "**Q.20 Define and explain kurtosis.**\n",
        "- Kurtosis is a measure of how data disperse between a distribution's center and tails. It compares the tail of the distribution with that of normal distribution. It is of three types:\n",
        "1. Mesokurtic: when kurtosis = 3 . It is similar to normal distribution.\n",
        "2. Leptokurtic: when kurtosis > 3 . It have heavy tail and sharp peak\n",
        "3. Platykurtic: when kurtosis < 3 . It have light tail and flat peak\n",
        "\n",
        "**Q.21 What is the purpose of covariance?**\n",
        "- Covariance tells about the relationship between two variables i.e. whether they have direct relation or indirect relation. In direct relation covariance > 0 , in indirect relation covariance < 0 and if covariance = 0 then there is no relation between variables. Direct relation mean either both of them increases or both decreases but in indirect relation if one increase other will decrease. Covariance is also used to calculate correlation which gives us the strength of the relation.\n",
        "$$\n",
        "\\text{Cov}(X, Y) = \\frac{1}{n} \\sum_{i=1}^{n} (x_i - \\mu_X)(y_i - \\mu_Y)\n",
        "$$\n",
        "\n",
        "**Q.22 What does correlation measure in statistics?**\n",
        "- Correlation measures the strength and direction of linear relationship between two variables. The range of correlation lies between -1 and +1. The more closer the correlation to +1/-1, the more is the features correlated and 0 means there is no correlation between them.\n",
        "$$\n",
        "r = \\frac{\\text{Cov}(X, Y)}{\\sigma_X \\cdot \\sigma_Y}\n",
        "$$\n",
        "\n",
        "\n",
        "**Q.23 What is the difference between covariance and correlation?**\n",
        "- Covariance measure only the direction of linear relationship whereas correlation measure both direction as well as strength of linear relationships. There is no range in covariance i.e. covariance can take any value but correlation values lies only between -1 and +1. Covariance depends upon the units whereas correlation is relative as it doesn't have any unit.\n",
        "\n",
        "**Q.24 What are some real-world applications of statistics??**\n",
        "- Statistics is mostly used in every field some of them are listed below:\n",
        "  - Weather Forecast: Statistics is used to find patterns and trends by analyzing past whether and predicting the whether in future based on certain conditions.\n",
        "  - Election campaign: Statistics is used to predict the results using models. It is also used to analyze people behaviour and predict whether they will vote or not.\n",
        "  - Medical/pharmacetical: Stats is used in testing data of people having certain disease, by analyzing the symptoms and other features that make the possibility of disease higher. So, that other people can take actions at early stages of their disease. It is also used to find whether a certain medicene work or not.\n",
        "  - E-commerce: stats is used by many online applications like flipkart and amazon to search people's algorithms and recommend them products and services according to their choices.\n",
        "\n",
        "# **Practical Questions**\n"
      ],
      "metadata": {
        "id": "Y9ofeTCzSJD6"
      }
    },
    {
      "cell_type": "code",
      "source": [
        "#1. How do you calculate the mean, median, and mode of a dataset\n",
        "import numpy as np\n",
        "data=[1,2,3,9,3,7,8,2,8,3,7,5,1,3,3,10]\n",
        "#mean\n",
        "print(f'Mean = {np.mean(data)}')\n",
        "#median\n",
        "print(f'Median = {np.median(data)}')\n",
        "#mode\n",
        "import statistics\n",
        "print(f'Mode = {statistics.mode(data)}')"
      ],
      "metadata": {
        "colab": {
          "base_uri": "https://localhost:8080/"
        },
        "id": "QysoqvvBjEVA",
        "outputId": "f59bc258-40f4-419f-e55f-e76e4afe2873"
      },
      "execution_count": null,
      "outputs": [
        {
          "output_type": "stream",
          "name": "stdout",
          "text": [
            "Mean = 4.6875\n",
            "Median = 3.0\n",
            "Mode = 3\n"
          ]
        }
      ]
    },
    {
      "cell_type": "code",
      "source": [
        "#2. Write a Python program to compute the variance and standard deviation of a dataset\n",
        "import numpy as np\n",
        "data=[1,2,3,9,3,7,8,2,8,3,7,5,1,3,3,10]\n",
        "var=np.var(data,ddof=1)\n",
        "std_dev=np.std(data,ddof=1)\n",
        "print(f'Variance = {var} and Standard Deviation = {std_dev}')"
      ],
      "metadata": {
        "colab": {
          "base_uri": "https://localhost:8080/"
        },
        "id": "2xDYqhZenzo0",
        "outputId": "00600f9d-928a-4c6a-c0c9-9ee43d8351a9"
      },
      "execution_count": null,
      "outputs": [
        {
          "output_type": "stream",
          "name": "stdout",
          "text": [
            "Variance = 9.029166666666667 and Standard Deviation = 3.004857179079676\n"
          ]
        }
      ]
    },
    {
      "cell_type": "code",
      "source": [
        "#3. Create a dataset and classify it into nominal, ordinal, interval, and ratio types\n",
        "import pandas as pd\n",
        "data={\n",
        "    'Name':['Ram','Shyam','Shubh','Ishank','Navu','ajay'],#nominal\n",
        "    'age':[30,40,21,22,22,30], #Ratio\n",
        "    'body_temp':[95,97,98,98,99,97], #interval\n",
        "    'grades':['B','C','A','A','C','A'] # ordinal\n",
        "}\n",
        "df=pd.DataFrame(data)\n",
        "print(df)\n",
        "print('Created dataset successfully!')\n",
        "print('Name: Nominal data')\n",
        "print('age: Ratio')\n",
        "print('body_temp: Interval')\n",
        "print('grades: Ordinal')"
      ],
      "metadata": {
        "colab": {
          "base_uri": "https://localhost:8080/"
        },
        "id": "2KYVGx3johLR",
        "outputId": "3b1f208d-d878-4c93-c697-6d827af57c70"
      },
      "execution_count": null,
      "outputs": [
        {
          "output_type": "stream",
          "name": "stdout",
          "text": [
            "     Name  age  body_temp grades\n",
            "0     Ram   30         95      B\n",
            "1   Shyam   40         97      C\n",
            "2   Shubh   21         98      A\n",
            "3  Ishank   22         98      A\n",
            "4    Navu   22         99      C\n",
            "5    ajay   30         97      A\n",
            "Created dataset successfully!\n",
            "Name: Nominal data\n",
            "age: Ratio\n",
            "body_temp: Interval\n",
            "grades: Ordinal\n"
          ]
        }
      ]
    },
    {
      "cell_type": "code",
      "source": [
        "#4. Implement sampling techniques like random sampling and stratified sampling\n",
        "import random\n",
        "from sklearn.model_selection import train_test_split\n",
        "import pandas as pd\n",
        "\n",
        "data=[]\n",
        "for i in range(50):\n",
        "  n=random.randint(1,100)\n",
        "  data.append(n)\n",
        "df = pd.DataFrame({'value':data})\n",
        "#Add one more column\n",
        "def grades(val):\n",
        "  if val<35:\n",
        "    return 'Work Hard'\n",
        "  elif val <70:\n",
        "    return 'average'\n",
        "  elif val<90:\n",
        "    return 'good work'\n",
        "  else:\n",
        "    return 'Excellent work'\n",
        "df['category'] = df['value'].apply(grades)\n",
        "print(df.head())\n",
        "print('Printing sample using random sampling')\n",
        "#Random sampling ->\n",
        "print(df.sample(n=10))\n",
        "print('Printing sample using stratified sampling')\n",
        "#Stratified sampling ->\n",
        "print(train_test_split(df, test_size=0.7)[0])"
      ],
      "metadata": {
        "colab": {
          "base_uri": "https://localhost:8080/"
        },
        "id": "Lck7stlepAvL",
        "outputId": "eafd4e36-d22f-4c82-f6e9-d18e3f61e7ff"
      },
      "execution_count": null,
      "outputs": [
        {
          "output_type": "stream",
          "name": "stdout",
          "text": [
            "   value        category\n",
            "0     91  Excellent work\n",
            "1     85       good work\n",
            "2     86       good work\n",
            "3     70       good work\n",
            "4     56         average\n",
            "Printing sample using random sampling\n",
            "    value        category\n",
            "26     69         average\n",
            "31     54         average\n",
            "44     31       Work Hard\n",
            "33     90  Excellent work\n",
            "28     16       Work Hard\n",
            "10     73       good work\n",
            "5       8       Work Hard\n",
            "29     52         average\n",
            "20     63         average\n",
            "3      70       good work\n",
            "Printing sample using stratified sampling\n",
            "    value        category\n",
            "47     62         average\n",
            "46     42         average\n",
            "13     32       Work Hard\n",
            "25     35         average\n",
            "28     16       Work Hard\n",
            "42     24       Work Hard\n",
            "20     63         average\n",
            "31     54         average\n",
            "10     73       good work\n",
            "41     53         average\n",
            "12     75       good work\n",
            "48     47         average\n",
            "0      91  Excellent work\n",
            "32      2       Work Hard\n",
            "18     83       good work\n"
          ]
        }
      ]
    },
    {
      "cell_type": "code",
      "source": [
        "#5. Write a Python function to calculate the range of a dataset\n",
        "import numpy as np\n",
        "import random\n",
        "\n",
        "def cal_range(data):\n",
        "  return np.max(data) - np.min(data)\n",
        "\n",
        "data = [random.randint(1, 100) for i in range(10)]\n",
        "print(data)\n",
        "print('Range = ',cal_range(data))"
      ],
      "metadata": {
        "colab": {
          "base_uri": "https://localhost:8080/"
        },
        "id": "Z73ndFWnxrEo",
        "outputId": "9329d871-ef3b-41ff-b427-228d003e85c4"
      },
      "execution_count": null,
      "outputs": [
        {
          "output_type": "stream",
          "name": "stdout",
          "text": [
            "[12, 76, 89, 20, 70, 81, 21, 22, 58, 75]\n",
            "Range =  77\n"
          ]
        }
      ]
    },
    {
      "cell_type": "code",
      "source": [
        "#6. Create a dataset and plot its histogram to visualize skewness\n",
        "import numpy as np\n",
        "import matplotlib.pyplot as plt\n",
        "#Log - normal distribution (it is possitively skewed )\n",
        "data = np.random.lognormal(mean=1,sigma=0.5,size=1000)\n",
        "plt.hist(data)\n",
        "plt.show()"
      ],
      "metadata": {
        "colab": {
          "base_uri": "https://localhost:8080/",
          "height": 430
        },
        "id": "Ik1ioYmqzFLv",
        "outputId": "2ee2a160-f413-4ebe-8b2f-2f3fc7d495d1"
      },
      "execution_count": null,
      "outputs": [
        {
          "output_type": "display_data",
          "data": {
            "text/plain": [
              "<Figure size 640x480 with 1 Axes>"
            ],
            "image/png": "[encoded data removed]"
          },
          "metadata": {}
        }
      ]
    },
    {
      "cell_type": "code",
      "source": [
        "#7. Calculate skewness and kurtosis of a dataset using Python libraries\n",
        "import numpy as np\n",
        "from scipy.stats import skew,kurtosis\n",
        "#Log - normal distribution (it is possitively skewed ) and normal distribution\n",
        "data = np.random.lognormal(mean=1,sigma=0.5,size=1000)\n",
        "print(f'Skewness = {skew(data)}')\n",
        "print(f'Kurtosis = {kurtosis(data)}')"
      ],
      "metadata": {
        "colab": {
          "base_uri": "https://localhost:8080/"
        },
        "id": "Bsgc2lhuzmCP",
        "outputId": "37802215-5e26-4b32-e478-ef1f69effe68"
      },
      "execution_count": null,
      "outputs": [
        {
          "output_type": "stream",
          "name": "stdout",
          "text": [
            "Skewness = 1.5263856559301843\n",
            "Kurtosis = 3.628613490781748\n"
          ]
        }
      ]
    },
    {
      "cell_type": "code",
      "source": [
        "#8. Generate a dataset and demonstrate positive and negative skewness\n",
        "import numpy as np\n",
        "import matplotlib.pyplot as plt\n",
        "#Log - normal distribution (it is possitively skewed )\n",
        "data1 = np.random.lognormal(mean=1,sigma=0.5,size=1000)\n",
        "#negatively skewed use\n",
        "data2 = -np.random.lognormal(mean=1,sigma=0.5,size=1000)\n",
        "plt.subplot(1,2,1)\n",
        "plt.hist(data1)\n",
        "plt.subplot(1,2,2)\n",
        "plt.hist(data2)\n",
        "plt.show()"
      ],
      "metadata": {
        "colab": {
          "base_uri": "https://localhost:8080/",
          "height": 430
        },
        "id": "G_lXLwOs1Yi0",
        "outputId": "9e4cb8ca-f2fd-4918-83d2-6049aeb6f15e"
      },
      "execution_count": null,
      "outputs": [
        {
          "output_type": "display_data",
          "data": {
            "text/plain": [
              "<Figure size 640x480 with 2 Axes>"
            ],
            "image/png": "[encoded data removed]"
          },
          "metadata": {}
        }
      ]
    },
    {
      "cell_type": "code",
      "source": [
        "#9. Write a Python script to calculate covariance between two datasets\n",
        "import seaborn as sns\n",
        "import numpy as np\n",
        "data = sns.load_dataset('tips')\n",
        "print(data.head())\n",
        "x=data['total_bill']\n",
        "y=data['size']\n",
        "print('Covariance = ')\n",
        "print(x.cov(y))"
      ],
      "metadata": {
        "colab": {
          "base_uri": "https://localhost:8080/"
        },
        "id": "Gj02rwf12NJI",
        "outputId": "1be9eca7-3688-4e59-ee36-059dd4429e35"
      },
      "execution_count": null,
      "outputs": [
        {
          "output_type": "stream",
          "name": "stdout",
          "text": [
            "   total_bill   tip     sex smoker  day    time  size\n",
            "0       16.99  1.01  Female     No  Sun  Dinner     2\n",
            "1       10.34  1.66    Male     No  Sun  Dinner     3\n",
            "2       21.01  3.50    Male     No  Sun  Dinner     3\n",
            "3       23.68  3.31    Male     No  Sun  Dinner     2\n",
            "4       24.59  3.61  Female     No  Sun  Dinner     4\n",
            "Covariance = \n",
            "5.065983437900561\n"
          ]
        }
      ]
    },
    {
      "cell_type": "code",
      "source": [
        "#10. Write a Python script to calculate the correlation coefficient between two datasets\n",
        "import seaborn as sns\n",
        "import numpy as np\n",
        "data = sns.load_dataset('tips')\n",
        "print(data.head())\n",
        "x=data['total_bill']\n",
        "y=data['size']\n",
        "print('Correlation = ')\n",
        "print(x.corr(y))"
      ],
      "metadata": {
        "colab": {
          "base_uri": "https://localhost:8080/"
        },
        "id": "m3o1Cai32rih",
        "outputId": "39d3294b-5ac7-4468-9492-5ecf6ec36c1f"
      },
      "execution_count": null,
      "outputs": [
        {
          "output_type": "stream",
          "name": "stdout",
          "text": [
            "   total_bill   tip     sex smoker  day    time  size\n",
            "0       16.99  1.01  Female     No  Sun  Dinner     2\n",
            "1       10.34  1.66    Male     No  Sun  Dinner     3\n",
            "2       21.01  3.50    Male     No  Sun  Dinner     3\n",
            "3       23.68  3.31    Male     No  Sun  Dinner     2\n",
            "4       24.59  3.61  Female     No  Sun  Dinner     4\n",
            "Correlation = \n",
            "0.5983151309049022\n"
          ]
        }
      ]
    },
    {
      "cell_type": "code",
      "source": [
        "#11. Create a scatter plot to visualize the relationship between two variables\n",
        "import seaborn as sns\n",
        "import numpy as np\n",
        "import matplotlib.pyplot as plt\n",
        "\n",
        "data = sns.load_dataset('tips')\n",
        "x=data['total_bill']\n",
        "y=data['tip']\n",
        "plt.scatter(x,y)\n",
        "plt.title('Scatter Plot')\n",
        "plt.xlabel('Total Bill')\n",
        "plt.ylabel('Tip')\n",
        "plt.show()"
      ],
      "metadata": {
        "colab": {
          "base_uri": "https://localhost:8080/",
          "height": 472
        },
        "id": "AVFmUBlx3g_Y",
        "outputId": "6aa2522a-35e3-4909-91d7-b67e2d1654bc"
      },
      "execution_count": null,
      "outputs": [
        {
          "output_type": "display_data",
          "data": {
            "text/plain": [
              "<Figure size 640x480 with 1 Axes>"
            ],
            "image/png": "[encoded data removed]"
          },
          "metadata": {}
        }
      ]
    },
    {
      "cell_type": "code",
      "source": [
        "#12. Implement and compare simple random sampling and systematic sampling\n",
        "import numpy as np\n",
        "import matplotlib.pyplot as plt\n",
        "import random\n",
        "def random_sampling(pop,n):\n",
        "  return random.sample(list(pop),n)\n",
        "def systematic_sampling(pop,n):\n",
        "  k=len(pop) // n\n",
        "  #returning a list of n numbers\n",
        "  return [pop[i] for i in range(random.randint(0,k-1),len(pop),k)][:n]\n",
        "pop=np.arange(1,101)\n",
        "random_sample=random_sampling(pop,10)\n",
        "sys_sample=systematic_sampling(pop,10)\n",
        "plt.hist(random_sample,alpha=0.6,label=\"Random sampling\")\n",
        "plt.hist(sys_sample,alpha=0.6,label='Systematic sampling')\n",
        "plt.legend()\n",
        "plt.show()"
      ],
      "metadata": {
        "id": "8ONotqXj4wv4",
        "colab": {
          "base_uri": "https://localhost:8080/",
          "height": 430
        },
        "outputId": "027b0542-171e-484c-db05-7d8a1eb2ce7b"
      },
      "execution_count": 5,
      "outputs": [
        {
          "output_type": "display_data",
          "data": {
            "text/plain": [
              "<Figure size 640x480 with 1 Axes>"
            ],
            "image/png": "[encoded data removed]"
          },
          "metadata": {}
        }
      ]
    },
    {
      "cell_type": "code",
      "source": [
        "#13.Calculate the mean, median, and mode of grouped data\n",
        "import numpy as np\n",
        "\n",
        "intervals = [(0,10),(10,20),(20,30),(30,40),(40,50)]\n",
        "freq=[10,20,44,35,52]\n",
        "mid_value=[(i+j)/2 for i,j in intervals]\n",
        "total=0\n",
        "for i in np.arange(5):\n",
        "  total+=freq[i]*mid_value[i]\n",
        "mean=total/sum(freq)\n",
        "print(f'Grouped data mean = {mean}')\n",
        "\n",
        "#Median\n",
        "cumulative_freq = []\n",
        "cum = 0\n",
        "for f in freq:\n",
        "  cum += f\n",
        "  cumulative_freq.append(cum)\n",
        "N=sum(freq)\n",
        "medianIndex= next(i for i, cf in enumerate(cumulative_freq) if cf >= N/2)\n",
        "L=intervals[medianIndex][0]\n",
        "F=cumulative_freq[medianIndex - 1] if medianIndex > 0 else 0\n",
        "f=freq[medianIndex]\n",
        "h=intervals[medianIndex][1]-intervals[medianIndex][0]\n",
        "median = L + ((N/2 - F) / f) * h\n",
        "print(f'Grouped data median = {median}')\n",
        "#Mode\n",
        "modeIndex=freq.index(max(freq))\n",
        "L=intervals[modeIndex][0]\n",
        "f1 = freq[modeIndex]\n",
        "f0 = freq[modeIndex - 1] if modeIndex > 0 else 0\n",
        "f2 = freq[modeIndex + 1] if modeIndex < len(freq) - 1 else 0\n",
        "h=intervals[modeIndex][1]-intervals[modeIndex][0]\n",
        "mode = L + ((f1 - f0) / (2 * f1 - f0 - f2)) * h\n",
        "print(f'Grouped data mode = {mode}')"
      ],
      "metadata": {
        "colab": {
          "base_uri": "https://localhost:8080/"
        },
        "id": "P2AdVZLT6Em2",
        "outputId": "7ac4c476-4a1c-40ff-b522-3de3ea78ed24"
      },
      "execution_count": 56,
      "outputs": [
        {
          "output_type": "stream",
          "name": "stdout",
          "text": [
            "Grouped data mean = 31.149068322981368\n",
            "Grouped data median = 31.857142857142858\n",
            "Grouped data mode = 42.46376811594203\n"
          ]
        }
      ]
    },
    {
      "cell_type": "code",
      "source": [
        "#14. Simulate data using Python and calculate its central tendency and dispersion.\n",
        "import random\n",
        "import statistics\n",
        "import numpy as np\n",
        "\n",
        "data=np.random.randint(1,101,size=100)\n",
        "mean=np.mean(data)\n",
        "median=np.median(data)\n",
        "mode=statistics.mode(data)\n",
        "print('CENTRAL TENDENCY MEASURES : ')\n",
        "print(f'Mean of data is {mean}')\n",
        "print(f'Median of data is {median}')\n",
        "print(f'Mode of data is {mode}')\n",
        "print('Dispersion MEASURES : ')\n",
        "range = np.max(data) - np.min(data)\n",
        "var=np.var(data)\n",
        "std=np.std(data)\n",
        "print(f'Range of data is {range}')\n",
        "print(f'Variance of data is {var}')\n",
        "print(f'Standard Deviation of data is {std}')"
      ],
      "metadata": {
        "id": "YOK2Wq9M8pBH",
        "colab": {
          "base_uri": "https://localhost:8080/"
        },
        "outputId": "50c4799e-20b8-4a8e-8ece-45f65ccea0ba"
      },
      "execution_count": 12,
      "outputs": [
        {
          "output_type": "stream",
          "name": "stdout",
          "text": [
            "CENTRAL TENDENCY MEASURES : \n",
            "Mean of data is 49.76\n",
            "Median of data is 50.0\n",
            "Mode of data is 2\n",
            "Dispersion MEASURES : \n",
            "Range of data is 99\n",
            "Variance of data is 837.9223999999998\n",
            "Standard Deviation of data is 28.946889297470285\n"
          ]
        }
      ]
    },
    {
      "cell_type": "code",
      "source": [
        "#15. Use NumPy or pandas to summarize a dataset’s descriptive statistics\n",
        "import pandas as pd\n",
        "import numpy as np\n",
        "\n",
        "data = pd.Series(np.random.randint(1,101,size=100))\n",
        "data.describe()"
      ],
      "metadata": {
        "colab": {
          "base_uri": "https://localhost:8080/",
          "height": 335
        },
        "id": "-YIquzSA7WAM",
        "outputId": "f8645894-d133-4fa3-9461-37663aeffb81"
      },
      "execution_count": 14,
      "outputs": [
        {
          "output_type": "execute_result",
          "data": {
            "text/plain": [
              "count    100.00000\n",
              "mean      47.15000\n",
              "std       28.74843\n",
              "min        1.00000\n",
              "25%       21.75000\n",
              "50%       47.00000\n",
              "75%       73.25000\n",
              "max       98.00000\n",
              "dtype: float64"
            ],
            "text/html": [
              "<div>\n",
              "<style scoped>\n",
              "    .dataframe tbody tr th:only-of-type {\n",
              "        vertical-align: middle;\n",
              "    }\n",
              "\n",
              "    .dataframe tbody tr th {\n",
              "        vertical-align: top;\n",
              "    }\n",
              "\n",
              "    .dataframe thead th {\n",
              "        text-align: right;\n",
              "    }\n",
              "</style>\n",
              "<table border=\"1\" class=\"dataframe\">\n",
              "  <thead>\n",
              "    <tr style=\"text-align: right;\">\n",
              "      <th></th>\n",
              "      <th>0</th>\n",
              "    </tr>\n",
              "  </thead>\n",
              "  <tbody>\n",
              "    <tr>\n",
              "      <th>count</th>\n",
              "      <td>100.00000</td>\n",
              "    </tr>\n",
              "    <tr>\n",
              "      <th>mean</th>\n",
              "      <td>47.15000</td>\n",
              "    </tr>\n",
              "    <tr>\n",
              "      <th>std</th>\n",
              "      <td>28.74843</td>\n",
              "    </tr>\n",
              "    <tr>\n",
              "      <th>min</th>\n",
              "      <td>1.00000</td>\n",
              "    </tr>\n",
              "    <tr>\n",
              "      <th>25%</th>\n",
              "      <td>21.75000</td>\n",
              "    </tr>\n",
              "    <tr>\n",
              "      <th>50%</th>\n",
              "      <td>47.00000</td>\n",
              "    </tr>\n",
              "    <tr>\n",
              "      <th>75%</th>\n",
              "      <td>73.25000</td>\n",
              "    </tr>\n",
              "    <tr>\n",
              "      <th>max</th>\n",
              "      <td>98.00000</td>\n",
              "    </tr>\n",
              "  </tbody>\n",
              "</table>\n",
              "</div><br><label><b>dtype:</b> float64</label>"
            ]
          },
          "metadata": {},
          "execution_count": 14
        }
      ]
    },
    {
      "cell_type": "code",
      "source": [
        "#16. Plot a boxplot to understand the spread and identify outliers\n",
        "import matplotlib.pyplot as plt\n",
        "\n",
        "data=[10,12,9,8,14,15,100,200,23,19,17,18,20,13,18,7,5,2,9,8,10,21,18,22,20,8,17,13,15]\n",
        "plt.boxplot(data)\n",
        "plt.show()"
      ],
      "metadata": {
        "colab": {
          "base_uri": "https://localhost:8080/",
          "height": 430
        },
        "id": "j1Fj9ZMQ8zpB",
        "outputId": "4e8dc03b-e893-4876-9144-b8db2ad71d70"
      },
      "execution_count": 15,
      "outputs": [
        {
          "output_type": "display_data",
          "data": {
            "text/plain": [
              "<Figure size 640x480 with 1 Axes>"
            ],
            "image/png": "[encoded data removed]"
          },
          "metadata": {}
        }
      ]
    },
    {
      "cell_type": "code",
      "source": [
        "#17. Calculate the interquartile range (IQR) of a dataset\n",
        "import numpy as np\n",
        "data=np.random.randint(0,100,size=50)\n",
        "Iqr_array = np.percentile(data,[25,75])\n",
        "print(\"InterQuartileRange = \",Iqr_array[1]-Iqr_array[0])"
      ],
      "metadata": {
        "colab": {
          "base_uri": "https://localhost:8080/"
        },
        "id": "EX8ytEUx91LY",
        "outputId": "ecf8fc9b-8877-4f98-a72b-35c7dfe72e9c"
      },
      "execution_count": 18,
      "outputs": [
        {
          "output_type": "stream",
          "name": "stdout",
          "text": [
            "InterQuartileRange =  49.75\n"
          ]
        }
      ]
    },
    {
      "cell_type": "code",
      "source": [
        "#18. Implement Z-score normalization and explain its significance\n",
        "import numpy as np\n",
        "import pandas as pd\n",
        "from sklearn.preprocessing import StandardScaler\n",
        "data=np.random.randint(0,100,size=50)\n",
        "print('Old data mean : ',np.mean(data))\n",
        "print('Old data std : ',np.std(data))\n",
        "data=pd.DataFrame(data)\n",
        "scaler = StandardScaler()\n",
        "normalized_data = scaler.fit_transform(data)\n",
        "print('New data mean : ',round(np.mean(normalized_data)))\n",
        "print('New data std : ',round(np.std(normalized_data,ddof=1)))\n",
        "# z-score normalization makes the standard deviation=1 and mean=0 which improves the model performance and\n",
        "#accuracy of statistical tests."
      ],
      "metadata": {
        "colab": {
          "base_uri": "https://localhost:8080/"
        },
        "id": "Ms52astD-4HH",
        "outputId": "f49c5fb9-5694-4b93-c644-4c7f00713ff3"
      },
      "execution_count": 29,
      "outputs": [
        {
          "output_type": "stream",
          "name": "stdout",
          "text": [
            "Old data mean :  45.36\n",
            "Old data std :  29.08728932025121\n",
            "New data mean :  0\n",
            "New data std :  1\n"
          ]
        }
      ]
    },
    {
      "cell_type": "code",
      "source": [
        "#19. Compare two datasets using their standard deviations\n",
        "import numpy as np\n",
        "\n",
        "data1=[10,20,15,18,19,12,14]\n",
        "data2=[10,100,80,30,20,14,20]\n",
        "print('Standard deviation of 1st dataset:',np.std(data1))\n",
        "print('Standard deviation of 2nd dataset: ',np.std(data2))"
      ],
      "metadata": {
        "colab": {
          "base_uri": "https://localhost:8080/"
        },
        "id": "lHKqkS9OBdsQ",
        "outputId": "c0e95bf6-c45d-4f75-95c7-14afadc087d1"
      },
      "execution_count": 30,
      "outputs": [
        {
          "output_type": "stream",
          "name": "stdout",
          "text": [
            "Standard deviation of 1st dataset: 3.4582052676886295\n",
            "Standard deviation of 2nd dataset:  33.10342481819483\n"
          ]
        }
      ]
    },
    {
      "cell_type": "markdown",
      "source": [
        "First dataset has less standard deviation so it's values are close to mean and the other ones have high standard deviation means it has outliers."
      ],
      "metadata": {
        "id": "WbYTqsPXCZi9"
      }
    },
    {
      "cell_type": "code",
      "source": [
        "#20. Write a Python program to visualize covariance using a heatmap\n",
        "import seaborn as sns\n",
        "import numpy as np\n",
        "data = sns.load_dataset('tips')\n",
        "print(data.head())\n",
        "cov = data.cov(numeric_only=True)\n",
        "sns.heatmap(cov,annot=True)"
      ],
      "metadata": {
        "colab": {
          "base_uri": "https://localhost:8080/",
          "height": 551
        },
        "id": "QpwABCc-CzBK",
        "outputId": "1038b229-56df-4c90-d8e7-7d52600af509"
      },
      "execution_count": 36,
      "outputs": [
        {
          "output_type": "stream",
          "name": "stdout",
          "text": [
            "   total_bill   tip     sex smoker  day    time  size\n",
            "0       16.99  1.01  Female     No  Sun  Dinner     2\n",
            "1       10.34  1.66    Male     No  Sun  Dinner     3\n",
            "2       21.01  3.50    Male     No  Sun  Dinner     3\n",
            "3       23.68  3.31    Male     No  Sun  Dinner     2\n",
            "4       24.59  3.61  Female     No  Sun  Dinner     4\n"
          ]
        },
        {
          "output_type": "execute_result",
          "data": {
            "text/plain": [
              "<Axes: >"
            ]
          },
          "metadata": {},
          "execution_count": 36
        },
        {
          "output_type": "display_data",
          "data": {
            "text/plain": [
              "<Figure size 640x480 with 2 Axes>"
            ],
            "image/png": "[encoded data removed]"
          },
          "metadata": {}
        }
      ]
    },
    {
      "cell_type": "code",
      "source": [
        "#21. Use seaborn to create a correlation matrix for a dataset\n",
        "import seaborn as sns\n",
        "import numpy as np\n",
        "data = sns.load_dataset('tips')\n",
        "corr = data.corr(numeric_only=True)\n",
        "print(corr)"
      ],
      "metadata": {
        "colab": {
          "base_uri": "https://localhost:8080/"
        },
        "id": "K9xOW_O8D2M_",
        "outputId": "f24bc4e1-6e92-49b5-810e-405925ef2293"
      },
      "execution_count": 37,
      "outputs": [
        {
          "output_type": "stream",
          "name": "stdout",
          "text": [
            "            total_bill       tip      size\n",
            "total_bill    1.000000  0.675734  0.598315\n",
            "tip           0.675734  1.000000  0.489299\n",
            "size          0.598315  0.489299  1.000000\n"
          ]
        }
      ]
    },
    {
      "cell_type": "code",
      "source": [
        "#22. Generate a dataset and implement both variance and standard deviation computations\n",
        "import numpy as np\n",
        "data=np.random.randint(1,100,size=100)\n",
        "#variance\n",
        "print('Variance of population is : ',np.var(data))\n",
        "print('Variance of sample is : ',np.var(data,ddof=1))\n",
        "#standard deviation\n",
        "print('Standard Deviation of population is : ',np.std(data))\n",
        "print('Standard Deviation of sample is : ',np.std(data,ddof=1))"
      ],
      "metadata": {
        "colab": {
          "base_uri": "https://localhost:8080/"
        },
        "id": "VXz5s88qEN3h",
        "outputId": "b02d7de2-0156-4acc-c4cd-31bd89bd4b8f"
      },
      "execution_count": 40,
      "outputs": [
        {
          "output_type": "stream",
          "name": "stdout",
          "text": [
            "Variance of population is :  825.9556\n",
            "Variance of sample is :  834.2985858585859\n",
            "Standard Deviation of population is :  28.739443279228635\n",
            "Standard Deviation of sample is :  28.884227285121995\n"
          ]
        }
      ]
    },
    {
      "cell_type": "code",
      "source": [
        "#23. Visualize skewness and kurtosis using Python libraries like matplotlib or seaborn\n",
        "import numpy as np\n",
        "from scipy.stats import skew,kurtosis\n",
        "#Log - normal distribution (it is possitively skewed ) and normal distribution\n",
        "data = np.random.lognormal(mean=1,sigma=0.5,size=1000)\n",
        "print(f'Skewness = {skew(data)}')\n",
        "print(f'Kurtosis = {kurtosis(data)}')\n",
        "sns.histplot(data, kde=True, color='blue', bins=30)\n",
        "\n",
        "plt.show()"
      ],
      "metadata": {
        "colab": {
          "base_uri": "https://localhost:8080/",
          "height": 465
        },
        "id": "K0-LP_3eEzUj",
        "outputId": "b6ed0fde-f9dc-41fb-de1c-59f38e970d2f"
      },
      "execution_count": 49,
      "outputs": [
        {
          "output_type": "stream",
          "name": "stdout",
          "text": [
            "Skewness = 1.582884462181623\n",
            "Kurtosis = 3.8809358341899767\n"
          ]
        },
        {
          "output_type": "display_data",
          "data": {
            "text/plain": [
              "<Figure size 640x480 with 1 Axes>"
            ],
            "image/png": "[encoded data removed]"
          },
          "metadata": {}
        }
      ]
    },
    {
      "cell_type": "code",
      "source": [
        "#24. Implement the Pearson and Spearman correlation coefficients for a dataset.\n",
        "import seaborn as sns\n",
        "import numpy as np\n",
        "from scipy.stats import pearsonr, spearmanr\n",
        "data = sns.load_dataset('tips')\n",
        "x=data['total_bill']\n",
        "y=data['tip']\n",
        "print(f'Pearson correlation coefficient is {pearsonr(x, y)[0]}')\n",
        "print(f'Spearman correlation coefficient is {spearmanr(x, y)[0]}')\n"
      ],
      "metadata": {
        "colab": {
          "base_uri": "https://localhost:8080/"
        },
        "id": "7Ckoh4uoHXv7",
        "outputId": "a5d3adb7-74f6-42fb-fdfb-ccae9700c219"
      },
      "execution_count": 52,
      "outputs": [
        {
          "output_type": "stream",
          "name": "stdout",
          "text": [
            "Pearson correlation coefficient is 0.6757341092113645\n",
            "Spearman correlation coefficient is 0.6789681219001009\n"
          ]
        }
      ]
    }
  ]
}